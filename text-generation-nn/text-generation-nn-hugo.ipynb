{
 "cells": [
  {
   "cell_type": "markdown",
   "metadata": {},
   "source": [
    "# Text generation neural network\n",
    "\n",
    "This neural network generates new pet names by first training a neural network on pet names from Seattle pet license data. The training runs very quickly by distributing the training work across multiple computers with GPUs in Saturn Cloud."
   ]
  },
  {
   "cell_type": "markdown",
   "metadata": {},
   "source": [
    "## Training the model"
   ]
  },
  {
   "cell_type": "code",
   "execution_count": 1,
   "metadata": {
    "execution": {
     "iopub.execute_input": "2021-02-17T18:12:49.107048Z",
     "iopub.status.busy": "2021-02-17T18:12:49.106761Z",
     "iopub.status.idle": "2021-02-17T18:12:49.676822Z",
     "shell.execute_reply": "2021-02-17T18:12:49.676186Z",
     "shell.execute_reply.started": "2021-02-17T18:12:49.106979Z"
    }
   },
   "outputs": [],
   "source": [
    "import pandas as pd\n",
    "import re\n",
    "import uuid\n",
    "import datetime\n",
    "import pickle\n",
    "import json\n",
    "import torch\n",
    "import math\n",
    "import torch.nn as nn\n",
    "import torch.optim as optim\n",
    "import numpy as np"
   ]
  },
  {
   "cell_type": "code",
   "execution_count": 2,
   "metadata": {
    "execution": {
     "iopub.execute_input": "2021-02-17T18:12:49.690013Z",
     "iopub.status.busy": "2021-02-17T18:12:49.689829Z",
     "iopub.status.idle": "2021-02-17T18:12:49.947470Z",
     "shell.execute_reply": "2021-02-17T18:12:49.946915Z",
     "shell.execute_reply.started": "2021-02-17T18:12:49.689981Z"
    }
   },
   "outputs": [],
   "source": [
    "# additional libraries for doing the Saturn Cloud parallel work\n",
    "from torch.nn.parallel import DistributedDataParallel as DDP\n",
    "import torch.distributed as dist\n",
    "from dask_pytorch_ddp import data, dispatch, results\n",
    "from dask_saturn import SaturnCluster\n",
    "from dask.distributed import Client"
   ]
  },
  {
   "cell_type": "code",
   "execution_count": 3,
   "metadata": {
    "execution": {
     "iopub.execute_input": "2021-02-17T18:12:50.038217Z",
     "iopub.status.busy": "2021-02-17T18:12:50.038040Z",
     "iopub.status.idle": "2021-02-17T18:12:50.047909Z",
     "shell.execute_reply": "2021-02-17T18:12:50.047401Z",
     "shell.execute_reply.started": "2021-02-17T18:12:50.038195Z"
    }
   },
   "outputs": [],
   "source": [
    "# This chunk creates the X and y matrices to train a model on and the model structure itself. The 3-dimensional X matrix represents (data point, place in text sequence, character [1-hot encoded]). The 2-dimensional y matrix represents (data point, character to predict)\n",
    "\n",
    "# Our list of characters, where * represents blank and + represents stop\n",
    "characters = list(\"*+abcdefghijklmnopqrstuvwxyz-. \")\n",
    "\n",
    "str_len = 8\n",
    "num_epochs = 100\n",
    "batch_size = 16384\n",
    "print_every = 16384\n",
    "lstm_size = 128\n",
    "lstm_layers = 4\n",
    "\n",
    "\n",
    "def format_training_data(pet_names):\n",
    "    def get_substrings(in_str):\n",
    "        in_str = in_str.lower() + \"+\"\n",
    "        res = [in_str[0: j] for j in range(1, len(in_str) + 1)]\n",
    "        return res\n",
    "\n",
    "    pattern = re.compile(\"^[ \\\\.\\\\-a-zA-Z]*$\")\n",
    "    pet_names_filtered = [name for name in pet_names if isinstance(name, str) and not name.isspace() and pattern.match(name)]\n",
    "    pet_names_expanded = [get_substrings(name) for name in  pet_names_filtered]\n",
    "    pet_names_expanded = [item for sublist in pet_names_expanded for item in sublist]\n",
    "    pet_names_characters = [list(name) for name in pet_names_expanded]\n",
    "    pet_names_padded = [name[-(str_len + 1):] for name in pet_names_characters]\n",
    "    pet_names_padded = [list((str_len + 1- len(characters)) * \"*\") + characters for characters in pet_names_padded]\n",
    "    pet_names_numeric = [[characters.index(char) for char in name] for name in pet_names_padded]\n",
    "\n",
    "    # the final x and y data\n",
    "    y = torch.tensor([name[1:] for name in pet_names_numeric])\n",
    "    x = torch.tensor([name[:-1] for name in pet_names_numeric])\n",
    "    x = torch.nn.functional.one_hot(x, num_classes = len(characters)).float()\n",
    "    return x, y\n",
    "\n",
    "# x, y = format_training_data(pet_names)\n",
    "\n",
    "# the lstm model\n",
    "class Model(nn.Module):\n",
    "    def __init__(self):\n",
    "        super(Model, self).__init__()\n",
    "        self.lstm = nn.LSTM(\n",
    "            input_size=len(characters),\n",
    "            hidden_size=lstm_size,\n",
    "            num_layers=lstm_layers,\n",
    "            batch_first=True,\n",
    "            dropout=0.1,\n",
    "        )\n",
    "        self.fc = nn.Linear(lstm_size, len(characters))\n",
    "\n",
    "    def forward(self, x):\n",
    "        output, state = self.lstm(x)\n",
    "        logits = self.fc(output)\n",
    "        return logits\n",
    "\n",
    "    def init_state(self, custom_batch_size=None):\n",
    "        if custom_batch_size is None:\n",
    "            custom_batch_size = batch_size\n",
    "        return (torch.zeros(lstm_layers, custom_batch_size, lstm_size),\n",
    "                torch.zeros(lstm_layers, custom_batch_size, lstm_size))"
   ]
  },
  {
   "cell_type": "code",
   "execution_count": 5,
   "metadata": {
    "execution": {
     "iopub.execute_input": "2021-02-17T18:22:12.952109Z",
     "iopub.status.busy": "2021-02-17T18:22:12.951867Z",
     "iopub.status.idle": "2021-02-17T18:22:13.202100Z",
     "shell.execute_reply": "2021-02-17T18:22:13.201624Z",
     "shell.execute_reply.started": "2021-02-17T18:22:12.952079Z"
    }
   },
   "outputs": [
    {
     "name": "stderr",
     "output_type": "stream",
     "text": [
      "INFO:dask-saturn:Cluster is ready\n",
      "INFO:dask-saturn:Registering default plugins\n",
      "INFO:dask-saturn:{'tcp://10.0.11.45:41757': {'status': 'repeat'}, 'tcp://10.0.3.128:33681': {'status': 'repeat'}, 'tcp://10.0.6.167:41499': {'status': 'repeat'}}\n"
     ]
    }
   ],
   "source": [
    "# This starts the parallel cluster in Saturn\n",
    "key = uuid.uuid4().hex\n",
    "rh = results.DaskResultsHandler(key)\n",
    "cluster = SaturnCluster()\n",
    "cluster.scale(3)\n",
    "client = Client(cluster)\n",
    "# client.wait_for_workers(3)"
   ]
  },
  {
   "cell_type": "code",
   "execution_count": 6,
   "metadata": {
    "execution": {
     "iopub.execute_input": "2021-02-17T18:22:16.524709Z",
     "iopub.status.busy": "2021-02-17T18:22:16.524477Z",
     "iopub.status.idle": "2021-02-17T18:22:16.529548Z",
     "shell.execute_reply": "2021-02-17T18:22:16.528936Z",
     "shell.execute_reply.started": "2021-02-17T18:22:16.524681Z"
    }
   },
   "outputs": [],
   "source": [
    "from torch.utils.data import Dataset, DataLoader\n",
    "\n",
    "\n",
    "\n",
    "class OurDataset(Dataset):\n",
    "    def __init__(self, pet_names):\n",
    "        self.x, self.y = format_training_data(pet_names)\n",
    "        self.permute()\n",
    "        \n",
    "    def __getitem__(self, idx):\n",
    "        idx = self.permutation[idx]\n",
    "        return self.x[idx], self.y[idx]\n",
    "    \n",
    "    def __len__(self):\n",
    "        return len(self.x)\n",
    "    \n",
    "    def permute(self):\n",
    "        self.permutation = torch.randperm(len(self.x))\n",
    "        \n",
    "# pet_names_raw = pd.read_csv(\"https://raw.githubusercontent.com/saturncloud/saturn-cloud-examples/master/text-generation-nn/seattle_pet_licenses.csv\")\n",
    "# pet_names = pet_names_raw[\"Animal's Name\"].tolist()        \n",
    "# loader = DataLoader(OurDataset(pet_names), batch_size=5)\n",
    "\n"
   ]
  },
  {
   "cell_type": "code",
   "execution_count": 11,
   "metadata": {
    "execution": {
     "iopub.execute_input": "2021-02-17T18:24:05.000616Z",
     "iopub.status.busy": "2021-02-17T18:24:05.000383Z",
     "iopub.status.idle": "2021-02-17T18:24:05.004717Z",
     "shell.execute_reply": "2021-02-17T18:24:05.004015Z",
     "shell.execute_reply.started": "2021-02-17T18:24:05.000593Z"
    }
   },
   "outputs": [
    {
     "data": {
      "text/plain": [
       "16384"
      ]
     },
     "execution_count": 11,
     "metadata": {},
     "output_type": "execute_result"
    }
   ],
   "source": [
    "batch_size"
   ]
  },
  {
   "cell_type": "code",
   "execution_count": 19,
   "metadata": {
    "execution": {
     "iopub.execute_input": "2021-02-17T18:36:46.617663Z",
     "iopub.status.busy": "2021-02-17T18:36:46.617424Z",
     "iopub.status.idle": "2021-02-17T18:36:46.625867Z",
     "shell.execute_reply": "2021-02-17T18:36:46.625168Z",
     "shell.execute_reply.started": "2021-02-17T18:36:46.617638Z"
    }
   },
   "outputs": [],
   "source": [
    "# model training function\n",
    "# when this is run it saved the model output after each epoch (overwriting the previous one)\n",
    "# If multiple computers are training the model, they'll each save to the same place\n",
    "from torch.utils.data.distributed import DistributedSampler\n",
    "\n",
    "def train():\n",
    "    # send the model to the computer the code is running on\n",
    "    torch.manual_seed(0)\n",
    "    pet_names_raw = pd.read_csv(\"https://raw.githubusercontent.com/saturncloud/saturn-cloud-examples/master/text-generation-nn/seattle_pet_licenses.csv\")\n",
    "    pet_names = pet_names_raw[\"Animal's Name\"].tolist()\n",
    "\n",
    "    # x, y = format_training_data(pet_names)\n",
    "    dataset = OurDataset(pet_names)\n",
    "    sampler = DistributedSampler(dataset)\n",
    "    bs = 16384\n",
    "    # batch_size = int(bs / dist.get_world_size())\n",
    "    batch_size = bs\n",
    "    loader = DataLoader(dataset, batch_size=batch_size, sampler=sampler)\n",
    "    worker_rank = int(dist.get_rank())\n",
    "    device = torch.device(0)\n",
    "    \n",
    "    model = Model()\n",
    "    model = model.to(device)\n",
    "    device_ids = [0]\n",
    "    model = DDP(model, device_ids=device_ids)\n",
    "    criterion = nn.CrossEntropyLoss()\n",
    "    optimizer = optim.Adam(model.parameters(), lr=0.001 * 3)\n",
    "    \n",
    "    num_batches = len(loader)\n",
    "    for epoch in range(num_epochs):\n",
    "#         state_h, state_c = orig_model.init_state()\n",
    "#         state_h = state_h.to(device)\n",
    "#         state_c = state_c.to(device)\n",
    "        \n",
    "            \n",
    "        for i, (batch_x, batch_y) in enumerate(loader):\n",
    "            batch_x = batch_x.to(device)\n",
    "            batch_y = batch_y.to(device)\n",
    "\n",
    "            optimizer.zero_grad()\n",
    "            # batch_y_pred, (state_h, state_c) = model(batch_x, (state_h, state_c))\n",
    "            batch_y_pred = model(batch_x)\n",
    "            # state_h = state_h.detach()\n",
    "            # state_c = state_c.detach()\n",
    "            # batch_y_pred = model(batch_x)\n",
    "            loss = criterion(batch_y_pred.transpose(1, 2), batch_y)\n",
    "            loss.backward()\n",
    "            optimizer.step()\n",
    "            \n",
    "            # store metrics while the model is training\n",
    "            if (i / batch_size) % print_every == 0:\n",
    "                rh.submit_result(\n",
    "                    f\"worker/{worker_rank}/data-{datetime.datetime.now().isoformat()}.json\", \n",
    "                    json.dumps({'loss': loss.item(),\n",
    "                                'epoch': epoch,\n",
    "                                'pct': (i / num_batches),\n",
    "                                'iter': i,\n",
    "                                'total': num_batches,\n",
    "                                'worker': worker_rank})\n",
    "                )\n",
    "        # save the model at the end of each epoch\n",
    "        rh.submit_result(f\"model.pkl\", pickle.dumps(model.state_dict()))\n",
    "        dataset.permute()"
   ]
  },
  {
   "cell_type": "code",
   "execution_count": 20,
   "metadata": {
    "execution": {
     "iopub.execute_input": "2021-02-17T18:36:48.410553Z",
     "iopub.status.busy": "2021-02-17T18:36:48.410328Z",
     "iopub.status.idle": "2021-02-17T18:36:50.312873Z",
     "shell.execute_reply": "2021-02-17T18:36:50.312288Z",
     "shell.execute_reply.started": "2021-02-17T18:36:48.410529Z"
    }
   },
   "outputs": [
    {
     "data": {
      "text/html": [
       "<table style=\"border: 2px solid white;\">\n",
       "<tr>\n",
       "<td style=\"vertical-align: top; border: 0px solid white\">\n",
       "<h3 style=\"text-align: left;\">Client</h3>\n",
       "<ul style=\"text-align: left; list-style: none; margin: 0; padding: 0;\">\n",
       "  <li><b>Scheduler: </b>tcp://d-hugo-gputraining-b3ad0e92445d4edbb226c5df125cc8b0.main-namespace:8786</li>\n",
       "  <li><b>Dashboard: </b><a href='https://d-hugo-gputraining-b3ad0e92445d4edbb226c5df125cc8b0.internal.saturnenterprise.io' target='_blank'>https://d-hugo-gputraining-b3ad0e92445d4edbb226c5df125cc8b0.internal.saturnenterprise.io</a></li>\n",
       "</ul>\n",
       "</td>\n",
       "<td style=\"vertical-align: top; border: 0px solid white\">\n",
       "<h3 style=\"text-align: left;\">Cluster</h3>\n",
       "<ul style=\"text-align: left; list-style:none; margin: 0; padding: 0;\">\n",
       "  <li><b>Workers: </b>3</li>\n",
       "  <li><b>Cores: </b>12</li>\n",
       "  <li><b>Memory: </b>46.50 GB</li>\n",
       "</ul>\n",
       "</td>\n",
       "</tr>\n",
       "</table>"
      ],
      "text/plain": [
       "<Client: 'tcp://10.0.22.0:8786' processes=0 threads=0, memory=0 B>"
      ]
     },
     "execution_count": 20,
     "metadata": {},
     "output_type": "execute_result"
    }
   ],
   "source": [
    "client.restart()"
   ]
  },
  {
   "cell_type": "code",
   "execution_count": 21,
   "metadata": {
    "execution": {
     "iopub.execute_input": "2021-02-17T18:36:55.808302Z",
     "iopub.status.busy": "2021-02-17T18:36:55.808075Z",
     "iopub.status.idle": "2021-02-17T18:40:47.035740Z",
     "shell.execute_reply": "2021-02-17T18:40:47.035192Z",
     "shell.execute_reply.started": "2021-02-17T18:36:55.808277Z"
    }
   },
   "outputs": [],
   "source": [
    "# start the parallel job, and use process_results to save the output\n",
    "# client.restart()\n",
    "futures = dispatch.run(client, train)\n",
    "rh.process_results(\"/home/jovyan/training-3x/\", futures, raise_errors=False)"
   ]
  },
  {
   "cell_type": "code",
   "execution_count": 5,
   "metadata": {
    "execution": {
     "iopub.execute_input": "2021-02-17T17:54:20.541228Z",
     "iopub.status.busy": "2021-02-17T17:54:20.540995Z",
     "iopub.status.idle": "2021-02-17T17:54:20.547682Z",
     "shell.execute_reply": "2021-02-17T17:54:20.546764Z",
     "shell.execute_reply.started": "2021-02-17T17:54:20.541202Z"
    }
   },
   "outputs": [
    {
     "ename": "NameError",
     "evalue": "name 'client' is not defined",
     "output_type": "error",
     "traceback": [
      "\u001b[0;31m---------------------------------------------------------------------------\u001b[0m",
      "\u001b[0;31mNameError\u001b[0m                                 Traceback (most recent call last)",
      "\u001b[0;32m<ipython-input-5-4fc2685c9fed>\u001b[0m in \u001b[0;36m<module>\u001b[0;34m\u001b[0m\n\u001b[0;32m----> 1\u001b[0;31m \u001b[0mclient\u001b[0m\u001b[0;34m\u001b[0m\u001b[0;34m\u001b[0m\u001b[0m\n\u001b[0m",
      "\u001b[0;31mNameError\u001b[0m: name 'client' is not defined"
     ]
    }
   ],
   "source": [
    "client"
   ]
  },
  {
   "cell_type": "code",
   "execution_count": null,
   "metadata": {},
   "outputs": [],
   "source": [
    "futures = dispatch.run(client, train)\n",
    "rh.process_results(\"/home/jovyan/training/\", futures, raise_errors=False)"
   ]
  },
  {
   "cell_type": "code",
   "execution_count": 30,
   "metadata": {
    "execution": {
     "iopub.execute_input": "2021-02-17T18:02:01.646224Z",
     "iopub.status.busy": "2021-02-17T18:02:01.645995Z",
     "iopub.status.idle": "2021-02-17T18:02:01.650929Z",
     "shell.execute_reply": "2021-02-17T18:02:01.650316Z",
     "shell.execute_reply.started": "2021-02-17T18:02:01.646200Z"
    }
   },
   "outputs": [],
   "source": [
    "import os\n",
    "from os.path import join, exists, dirname\n",
    "\n",
    "\n",
    "def to_bytes(x):\n",
    "    if isinstance(x, str):\n",
    "        return x.encode('utf-8', 'replace')\n",
    "    return x\n",
    "    \n",
    "class LocalResultsHandler:\n",
    "    def __init__(self, path):\n",
    "        self.path = path\n",
    "        \n",
    "    def submit_result(self, path, data):\n",
    "        path = join(self.path, path)\n",
    "        if not exists(dirname(path)):\n",
    "            os.makedirs(dirname(path))\n",
    "        with open(path, \"wb+\") as f:\n",
    "            f.write(to_bytes(data))\n",
    "                "
   ]
  },
  {
   "cell_type": "code",
   "execution_count": 31,
   "metadata": {
    "execution": {
     "iopub.execute_input": "2021-02-17T18:02:02.012936Z",
     "iopub.status.busy": "2021-02-17T18:02:02.012717Z",
     "iopub.status.idle": "2021-02-17T18:02:02.022243Z",
     "shell.execute_reply": "2021-02-17T18:02:02.021671Z",
     "shell.execute_reply.started": "2021-02-17T18:02:02.012911Z"
    }
   },
   "outputs": [],
   "source": [
    "# model training function\n",
    "# when this is run it saved the model output after each epoch (overwriting the previous one)\n",
    "# If multiple computers are training the model, they'll each save to the same place\n",
    "from torch.utils.data.distributed import DistributedSampler\n",
    "rh = LocalResultsHandler('/home/jovyan/local_train')\n",
    "\n",
    "def train_local():\n",
    "    # send the model to the computer the code is running on\n",
    "    torch.manual_seed(0)\n",
    "    pet_names_raw = pd.read_csv(\"https://raw.githubusercontent.com/saturncloud/saturn-cloud-examples/master/text-generation-nn/seattle_pet_licenses.csv\")\n",
    "    pet_names = pet_names_raw[\"Animal's Name\"].tolist()\n",
    "\n",
    "    # x, y = format_training_data(pet_names)\n",
    "    dataset = OurDataset(pet_names)\n",
    "    # sampler = DistributedSampler(dataset)\n",
    "    loader = DataLoader(dataset, batch_size=batch_size)\n",
    "    device = torch.device(0)\n",
    "    model = Model()\n",
    "    model = model.to(device)\n",
    "    # device_ids = [0]\n",
    "    # model = DDP(model, device_ids=device_ids)\n",
    "    criterion = nn.CrossEntropyLoss()\n",
    "    optimizer = optim.Adam(model.parameters(), lr=0.001)\n",
    "    \n",
    "    num_batches = len(loader)\n",
    "    worker_rank = 0\n",
    "    for epoch in range(num_epochs):\n",
    "#         state_h, state_c = orig_model.init_state()\n",
    "#         state_h = state_h.to(device)\n",
    "#         state_c = state_c.to(device)\n",
    "        \n",
    "            \n",
    "        for i, (batch_x, batch_y) in enumerate(loader):\n",
    "            batch_x = batch_x.to(device)\n",
    "            batch_y = batch_y.to(device)\n",
    "\n",
    "            optimizer.zero_grad()\n",
    "            # batch_y_pred, (state_h, state_c) = model(batch_x, (state_h, state_c))\n",
    "            batch_y_pred = model(batch_x)\n",
    "            # state_h = state_h.detach()\n",
    "            # state_c = state_c.detach()\n",
    "            # batch_y_pred = model(batch_x)\n",
    "            loss = criterion(batch_y_pred.transpose(1, 2), batch_y)\n",
    "            loss.backward()\n",
    "            optimizer.step()\n",
    "            \n",
    "            # store metrics while the model is training\n",
    "            if (i / batch_size) % print_every == 0:\n",
    "                rh.submit_result(\n",
    "                    f\"worker/data-{datetime.datetime.now().isoformat()}.json\", \n",
    "                    json.dumps({'loss': loss.item(),\n",
    "                                'epoch': epoch,\n",
    "                                'pct': (i / num_batches),\n",
    "                                'iter': i,\n",
    "                                'total': num_batches,\n",
    "                                'worker': worker_rank})\n",
    "                )\n",
    "        # save the model at the end of each epoch\n",
    "        rh.submit_result(f\"model.pkl\", pickle.dumps(model.state_dict()))\n",
    "        dataset.permute()"
   ]
  },
  {
   "cell_type": "code",
   "execution_count": 32,
   "metadata": {
    "execution": {
     "iopub.execute_input": "2021-02-17T18:02:02.217757Z",
     "iopub.status.busy": "2021-02-17T18:02:02.217581Z",
     "iopub.status.idle": "2021-02-17T18:10:18.459976Z",
     "shell.execute_reply": "2021-02-17T18:10:18.459297Z",
     "shell.execute_reply.started": "2021-02-17T18:02:02.217735Z"
    }
   },
   "outputs": [],
   "source": [
    "train_local()"
   ]
  },
  {
   "cell_type": "code",
   "execution_count": 33,
   "metadata": {
    "execution": {
     "iopub.execute_input": "2021-02-17T18:10:18.465720Z",
     "iopub.status.busy": "2021-02-17T18:10:18.465506Z",
     "iopub.status.idle": "2021-02-17T18:10:18.469037Z",
     "shell.execute_reply": "2021-02-17T18:10:18.468330Z",
     "shell.execute_reply.started": "2021-02-17T18:10:18.465692Z"
    }
   },
   "outputs": [],
   "source": [
    "path = \"/home/jovyan/train/worker/0\"\n"
   ]
  },
  {
   "cell_type": "markdown",
   "metadata": {},
   "source": [
    "## Generating names with a trained model"
   ]
  },
  {
   "cell_type": "code",
   "execution_count": 7,
   "metadata": {},
   "outputs": [],
   "source": [
    "def generate_name(lstm_model, init_state, characters, str_len):\n",
    "    in_progress_name = []\n",
    "    next_letter = \"\"\n",
    "    state_h, state_c = init_state(1)\n",
    "    while(not next_letter == \"+\" and len(in_progress_name) < 30):\n",
    "        # prep the data to run in the model again\n",
    "        in_progress_name_padded = in_progress_name[-str_len:]\n",
    "        in_progress_name_padded = list((str_len - len(in_progress_name_padded)) * \"*\") + in_progress_name_padded\n",
    "        in_progress_name_numeric = [characters.index(char) for char in in_progress_name_padded]\n",
    "        in_progress_name_tensor = torch.tensor(in_progress_name_numeric)\n",
    "        in_progress_name_tensor = torch.nn.functional.one_hot(in_progress_name_tensor, num_classes = len(characters)).float()\n",
    "        in_progress_name_tensor = torch.unsqueeze(in_progress_name_tensor, 0)\n",
    "        # get the probabilities of each possible next character by running the model\n",
    "        with torch.no_grad():\n",
    "            next_letter_probabilities, (state_h, state_c) = lstm_model(in_progress_name_tensor, (state_h, state_c))\n",
    "        next_letter_probabilities = next_letter_probabilities[0,-1,:]\n",
    "        next_letter_probabilities = torch.nn.functional.softmax(next_letter_probabilities, dim=0).detach().cpu().numpy()\n",
    "        next_letter_probabilities = next_letter_probabilities[1:]\n",
    "        next_letter_probabilities = [p/sum(next_letter_probabilities) for p in next_letter_probabilities]\n",
    "        # determine what the actual letter is\n",
    "        next_letter = characters[np.random.choice(len(characters)-1, p=next_letter_probabilities) + 1]\n",
    "        if(next_letter != \"+\"):\n",
    "            # if the next character isn't stop add the latest generated character to the name and continue\n",
    "            in_progress_name.append(next_letter)\n",
    "  # turn the list of characters into a single string\n",
    "    raw_name = \"\".join(in_progress_name)\n",
    "    # capitalize the first letter of each word\n",
    "    capitalized_name = raw_name.title()\n",
    "    return capitalized_name"
   ]
  },
  {
   "cell_type": "code",
   "execution_count": 11,
   "metadata": {},
   "outputs": [
    {
     "data": {
      "text/plain": [
       "<All keys matched successfully>"
      ]
     },
     "execution_count": 11,
     "metadata": {},
     "output_type": "execute_result"
    }
   ],
   "source": [
    "# load the model and the trained parameters\n",
    "model_state = pickle.load(open(\"/home/jovyan/training/model.pkl\", \"rb\"))\n",
    "model = Model()\n",
    "model_parallel = torch.nn.DataParallel(model).cuda()  \n",
    "model_parallel.load_state_dict(model_state)"
   ]
  },
  {
   "cell_type": "code",
   "execution_count": 12,
   "metadata": {},
   "outputs": [
    {
     "name": "stdout",
     "output_type": "stream",
     "text": [
      "['Beeger Len Laccencterny', 'Ctontor', 'Krin', 'Smurkle', 'Monsu', 'Jascenfa', 'Tipake', 'Yooru', 'Prade', 'Roea', 'Munashhetearlavy Radmasb', 'Jakis', 'Scogenea', 'Tassin', 'Boanne', 'Koqrey', 'Gusker', 'Ganlie', 'Chacgly', 'Kolonc', 'Cacdy', 'Laley', 'Hajisa', 'Kar Don', 'Mingly Wicsy Salri Goddimtons', 'Feora', 'Kalry', 'Zoa', 'Burac Ah-Srassy Nucchhel', 'Grue', 'Bezbynant Gortedde', 'Kaziy', 'Shouu', 'Raffekla', 'Mikim', 'Jodpe', 'Muitn', 'Markor', 'Echee', 'Iski', 'Yick', 'Kissia', 'Bryrpy', 'Jatar Hecsrurnes', 'Maidie', 'Rramd', 'Cine', 'Judde', 'Joszar']\n"
     ]
    }
   ],
   "source": [
    "# Generate 50 names then filter out existing ones\n",
    "generated_names = [generate_name(model_parallel, model.init_state, characters, str_len) for i in range(0,50)]\n",
    "generated_names = [name for name in generated_names if name not in pet_names]\n",
    "print(generated_names)"
   ]
  }
 ],
 "metadata": {
  "kernelspec": {
   "display_name": "saturn (Python 3)",
   "language": "python",
   "name": "python3"
  },
  "language_info": {
   "codemirror_mode": {
    "name": "ipython",
    "version": 3
   },
   "file_extension": ".py",
   "mimetype": "text/x-python",
   "name": "python",
   "nbconvert_exporter": "python",
   "pygments_lexer": "ipython3",
   "version": "3.7.7"
  }
 },
 "nbformat": 4,
 "nbformat_minor": 4
}
