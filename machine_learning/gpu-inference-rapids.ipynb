{
 "cells": [
  {
   "cell_type": "markdown",
   "metadata": {},
   "source": [
    "# Inference on the GPU with RAPIDS\n",
    "\n",
    "<img src=\"https://rapids.ai/assets/images/RAPIDS-logo-purple.png\" width=\"400\">\n",
    "\n",
    "This notebook can be easily run inside [Saturn Cloud](https://saturncloud.io/), where all the depdencies are available in an image. \n",
    "\n",
    "1. Sign up for a free account on [Saturn Cloud Hosted](https://accounts.community.saturnenterprise.io/auth/signup)\n",
    "1. Create a new project: Under \"Quick Start Projects\", click \"Blank GPU project\"\n",
    "1. Edit the project, then under \"Advanced Settings\" add the following:\n",
    "    ```bash\n",
    "    pip install category-encoders seaborn\n",
    "    ````\n",
    "1. Open up Jupyter Lab: Click the green play button to start the server, then when its up click \"Jupyter Lab\"\n",
    "1. Upload this notebook (or clone from this repo)"
   ]
  },
  {
   "cell_type": "code",
   "execution_count": 1,
   "metadata": {},
   "outputs": [],
   "source": [
    "from typing import List, Union, Dict\n",
    "import numpy as np\n",
    "import json\n",
    "\n",
    "import cudf\n",
    "import pandas as pd\n",
    "\n",
    "from cuml.preprocessing.TargetEncoder import TargetEncoder\n",
    "from category_encoders.target_encoder import TargetEncoder as TargetEncoderSikit\n",
    "\n",
    "\n",
    "from cuml.ensemble import RandomForestClassifier\n",
    "from sklearn.ensemble import RandomForestClassifier as RandomForestClassifierScikit\n",
    "\n",
    "def process_target(df):\n",
    "    df = df[df.fare_amount > 0]\n",
    "    df[\"tip_fraction\"] = df.tip_amount / df.fare_amount\n",
    "    df['target'] = (df[\"tip_fraction\"] > 0.2).astype(int)\n",
    "    return df.reset_index()"
   ]
  },
  {
   "cell_type": "code",
   "execution_count": 2,
   "metadata": {},
   "outputs": [],
   "source": [
    "taxi = cudf.read_csv(\n",
    "    \"https://s3.amazonaws.com/nyc-tlc/trip+data/yellow_tripdata_2019-01.csv\",\n",
    "    parse_dates=[\"tpep_pickup_datetime\", \"tpep_dropoff_datetime\"],\n",
    ")"
   ]
  },
  {
   "cell_type": "code",
   "execution_count": 3,
   "metadata": {},
   "outputs": [
    {
     "name": "stdout",
     "output_type": "stream",
     "text": [
      "Num rows: 7667792, Size: 1.08 GB\n"
     ]
    }
   ],
   "source": [
    "print(f\"Num rows: {len(taxi)}, Size: {round(taxi.memory_usage(deep=True).sum() / 1e9, 2)} GB\")"
   ]
  },
  {
   "cell_type": "code",
   "execution_count": 4,
   "metadata": {},
   "outputs": [],
   "source": [
    "subsample = process_target(taxi)\n",
    "# subample = subsample.sample(1000).reset_index(drop=True)"
   ]
  },
  {
   "cell_type": "code",
   "execution_count": 5,
   "metadata": {},
   "outputs": [],
   "source": [
    "class MyModel:\n",
    "    def __init__(self, model:RandomForestClassifier, cat_feature: str, params:Dict, encoder):\n",
    "        self.cat_feature = cat_feature\n",
    "        self.model = model(**params)\n",
    "        self.params = None\n",
    "        self.target_encoder = encoder\n",
    "        self.features = None\n",
    "        \n",
    "    def generate_date_feats(self, X: cudf.DataFrame) -> cudf.DataFrame:\n",
    "        X[\"pickup_weekday\"] = X.tpep_pickup_datetime.dt.weekday\n",
    "        X[\"pickup_hour\"] = X.tpep_pickup_datetime.dt.hour\n",
    "        X[\"pickup_week_hour\"] = (X.pickup_weekday * 24) + X.pickup_hour\n",
    "        X[\"pickup_minute\"] = X.tpep_pickup_datetime.dt.minute\n",
    "        return X\n",
    "    \n",
    "    def fit(self, X:Union[pd.DataFrame, cudf.DataFrame], y:np.array, scikit=False):\n",
    "        X = self.generate_date_feats(X)\n",
    "        if scikit:\n",
    "            self.target_encoder.fit(X, y)\n",
    "        else:\n",
    "            self.target_encoder.fit(X[self.cat_feature], y)\n",
    "        \n",
    "        if scikit:\n",
    "            X = self.target_encoder.transform(X)\n",
    "        else:\n",
    "            X[self.cat_feature] = self.target_encoder.transform(X[self.cat_feature])\n",
    "        X = X.select_dtypes(include=['float64', 'int64', 'int32', 'int16'])\n",
    "        self.features = X.columns\n",
    "        X = X[self.features].astype('float32')\n",
    "        self.model.fit(X, y)\n",
    "    \n",
    "    def predict(self, X, scikit=False):\n",
    "        X = self.generate_date_feats(X)\n",
    "        if scikit:\n",
    "            X = self.target_encoder.transform(X)\n",
    "        else:\n",
    "            X[self.cat_feature] = self.target_encoder.transform(X[self.cat_feature])\n",
    "        X = X[self.features].astype('float32')\n",
    "        return self.model.predict_proba(X)"
   ]
  },
  {
   "cell_type": "code",
   "execution_count": 6,
   "metadata": {},
   "outputs": [],
   "source": [
    "params = {'n_estimators': 300,\n",
    "          'max_depth': 10,\n",
    "          'n_streams':4}\n",
    "\n",
    "features = [\n",
    "    \"passenger_count\",\n",
    "    \"PULocationID\",\n",
    "    \"DOLocationID\",\n",
    "    \"tpep_pickup_datetime\"\n",
    "]\n",
    "\n",
    "model_cuml = MyModel(model=RandomForestClassifier, cat_feature=['PULocationID', 'DOLocationID'], params=params, encoder=TargetEncoder())\n",
    "model_cuml.fit(subsample[features], subsample.target.values)"
   ]
  },
  {
   "cell_type": "code",
   "execution_count": 7,
   "metadata": {},
   "outputs": [],
   "source": [
    "params = {'n_estimators': 300,\n",
    "          'max_depth': 10,\n",
    "          'n_jobs':-1}\n",
    "model_scikit = MyModel(model=RandomForestClassifierScikit, cat_feature=['PULocationID', 'DOLocationID'], params=params, encoder=TargetEncoderSikit(cols=['PULocationID', 'DOLocationID']))\n",
    "model_scikit.fit(subsample[features].to_pandas(), np.array(subsample.target.values.tolist()), scikit=True)"
   ]
  },
  {
   "cell_type": "code",
   "execution_count": 8,
   "metadata": {},
   "outputs": [],
   "source": [
    "import time\n",
    "def make_multiple_predictions_rapids(model, json_array):\n",
    "    latencies = []\n",
    "    for obj in json_array:\n",
    "        then = time.time()\n",
    "        data = cudf.DataFrame(json.loads(obj))\n",
    "        data['tpep_pickup_datetime'] = cudf.to_datetime(data['tpep_pickup_datetime'])\n",
    "        model.predict(data)\n",
    "        latencies.append(time.time() - then)\n",
    "    return latencies\n",
    "\n",
    "\n",
    "def make_multiple_predictions_scikit(model, json_array):\n",
    "    latencies = []\n",
    "    for obj in json_array:\n",
    "        then = time.time()\n",
    "        data = pd.DataFrame(json.loads(obj), index=[0])\n",
    "        data['tpep_pickup_datetime'] = pd.to_datetime(data['tpep_pickup_datetime'])\n",
    "        model.predict(data, scikit=True)\n",
    "        latencies.append(time.time() - then)\n",
    "    return latencies"
   ]
  },
  {
   "cell_type": "code",
   "execution_count": 9,
   "metadata": {},
   "outputs": [],
   "source": [
    "samples = subsample[features].sample(200).to_pandas()\n",
    "samples['tpep_pickup_datetime'] = samples['tpep_pickup_datetime'].astype('str')\n",
    "samples = samples.to_dict(orient='records')\n",
    "samples = [json.dumps(i) for i in samples]"
   ]
  },
  {
   "cell_type": "code",
   "execution_count": 10,
   "metadata": {},
   "outputs": [],
   "source": [
    "rapids_predictions = make_multiple_predictions_rapids(model_cuml, samples)"
   ]
  },
  {
   "cell_type": "code",
   "execution_count": 11,
   "metadata": {},
   "outputs": [],
   "source": [
    "scikit_predictions = make_multiple_predictions_scikit(model_scikit, samples)"
   ]
  },
  {
   "cell_type": "code",
   "execution_count": 12,
   "metadata": {},
   "outputs": [],
   "source": [
    "scikit_latencies = pd.DataFrame({'method': 'scikit-learn', 'latency': scikit_predictions})\n",
    "rapids_gpu_latencies = pd.DataFrame({'method': 'rapids', 'latency': rapids_predictions})\n",
    "combined = pd.concat([scikit_latencies, rapids_gpu_latencies])\n",
    "combined['latency'] = combined['latency'] * 1000"
   ]
  },
  {
   "cell_type": "code",
   "execution_count": 13,
   "metadata": {},
   "outputs": [
    {
     "data": {
      "image/png": "[encoded data removed]",
      "text/plain": [
       "<Figure size 504x432 with 1 Axes>"
      ]
     },
     "metadata": {},
     "output_type": "display_data"
    }
   ],
   "source": [
    "# create plot\n",
    "import seaborn as sns\n",
    "import matplotlib.pyplot as plt\n",
    "\n",
    "sns.set_theme(style=\"ticks\")\n",
    "\n",
    "# Initialize the figure with a logarithmic x axis\n",
    "f, ax = plt.subplots(figsize=(7, 6))\n",
    "# ax.set_xscale(\"log\")\n",
    "\n",
    "# Plot the orbital period with horizontal boxes\n",
    "# sns.boxplot(x=\"latency\", y=\"method\", data=combined,\n",
    "#             whis=[0, 0.01], width=.6, palette=\"vlag\")\n",
    "\n",
    "sns.barplot(x='latency', y='method', data=combined)\n",
    "\n",
    "# Add in points to show each observation\n",
    "# sns.stripplot(x=\"latency\", y=\"method\", data=combined,\n",
    "#               size=4, color=\".3\", linewidth=0)\n",
    "\n",
    "# Tweak the visual presentation\n",
    "ax.xaxis.grid(True)\n",
    "ax.set(xlabel=\"Latency (ms)\")\n",
    "sns.despine(trim=True, left=True)"
   ]
  }
 ],
 "metadata": {
  "kernelspec": {
   "display_name": "Python 3",
   "language": "python",
   "name": "python3"
  },
  "language_info": {
   "codemirror_mode": {
    "name": "ipython",
    "version": 3
   },
   "file_extension": ".py",
   "mimetype": "text/x-python",
   "name": "python",
   "nbconvert_exporter": "python",
   "pygments_lexer": "ipython3",
   "version": "3.7.7"
  }
 },
 "nbformat": 4,
 "nbformat_minor": 4
}
